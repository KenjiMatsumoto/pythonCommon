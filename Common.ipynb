{
 "cells": [
  {
   "cell_type": "code",
   "execution_count": 1,
   "metadata": {},
   "outputs": [
    {
     "name": "stderr",
     "output_type": "stream",
     "text": [
      "/Users/kokubun/.pyenv/versions/3.6.2/lib/python3.6/importlib/_bootstrap.py:205: RuntimeWarning: numpy.dtype size changed, may indicate binary incompatibility. Expected 96, got 88\n",
      "  return f(*args, **kwds)\n",
      "/Users/kokubun/.pyenv/versions/3.6.2/lib/python3.6/importlib/_bootstrap.py:205: RuntimeWarning: numpy.dtype size changed, may indicate binary incompatibility. Expected 96, got 88\n",
      "  return f(*args, **kwds)\n"
     ]
    }
   ],
   "source": [
    "import os\n",
    "import random\n",
    "import numpy as np\n",
    "import pandas as pd\n",
    "import librosa\n",
    "import librosa.display\n",
    "import matplotlib.pyplot as plt\n",
    "import cv2"
   ]
  },
  {
   "cell_type": "code",
   "execution_count": 3,
   "metadata": {},
   "outputs": [],
   "source": [
    "# load a wave data\n",
    "# waveファイルのロード処理\n",
    "def load_wave_data(train_dir, file_name):\n",
    "    file_path = os.path.join(train_dir, file_name)\n",
    "    x, fs = librosa.load(file_path, sr=44100)\n",
    "    return x,fs\n",
    "\n",
    "# change wave data to mel-stft\n",
    "# waveファイルの波形データをメルスペクトログラム画像に変換\n",
    "def calculate_melsp(x, n_fft=1024, hop_length=128):\n",
    "    stft = np.abs(librosa.stft(x, n_fft=n_fft, hop_length=hop_length))**2\n",
    "    log_stft = librosa.power_to_db(stft)\n",
    "    melsp = librosa.feature.melspectrogram(S=log_stft,n_mels=128)\n",
    "    return melsp\n",
    "\n",
    "# display wave in plots\n",
    "# waveファイルの波形データを表示\n",
    "def show_wave(x):\n",
    "    plt.plot(x)\n",
    "    plt.show()\n",
    "\n",
    "# display wave in heatmap\n",
    "# メルスペクトログラムの画像表示\n",
    "def show_melsp(melsp, fs):\n",
    "    librosa.display.specshow(melsp, sr=fs)\n",
    "    plt.colorbar()\n",
    "    plt.show()\n",
    "\n",
    "# data augmentation: add white noise\n",
    "# ホワイトノイズを混ぜ込んだ波形データを生成\n",
    "def add_white_noise(x, rate=0.002):\n",
    "    return x + rate*np.random.randn(len(x))\n",
    "\n",
    "# data augmentation: shift sound in timeframe\n",
    "# タイムシフトした波形データを生成\n",
    "def shift_sound(x, rate=2):\n",
    "    return np.roll(x, int(len(x)//rate))\n",
    "\n",
    "# data augmentation: stretch sound\n",
    "# ストレッチサウンドした波形データを生成\n",
    "def stretch_sound(x, rate=1.1):\n",
    "    input_length = len(x)\n",
    "    x = librosa.effects.time_stretch(x, rate)\n",
    "    if len(x)>input_length:\n",
    "        return x[:input_length]\n",
    "    else:\n",
    "        return np.pad(x, (0, max(0, input_length - len(x))), \"constant\")\n",
    "\n",
    "# save wave data in npz, with augmentation\n",
    "def save_np_data(filename, x, y, y_start_index, y_end_index, x_data_size, aug=None, rates=None):\n",
    "    np_data = np.zeros(freq*time*x_data_size).reshape(x_data_size, freq, time)\n",
    "    np_targets = np.zeros(y_end_index - y_start_index)\n",
    "    index = 0\n",
    "    for i in range(y_start_index, y_end_index):\n",
    "        _x, fs = Common.load_wave_data(train_dir, x[i])\n",
    "        if aug is not None:\n",
    "            _x = aug(x=_x, rate=rates[i])\n",
    "        _x = Common.calculate_melsp(_x)\n",
    "        # resizeで足りない秒数は0埋めにする\n",
    "        res = cv2.resize(_x, dsize=(time, freq), interpolation=cv2.INTER_CUBIC)\n",
    "        np_data[index] = res\n",
    "        np_targets[index] = y[i]\n",
    "        index += 1\n",
    "    np.savez(filename, x=np_data, y=np_targets)"
   ]
  },
  {
   "cell_type": "code",
   "execution_count": null,
   "metadata": {},
   "outputs": [],
   "source": []
  }
 ],
 "metadata": {
  "kernelspec": {
   "display_name": "Python 3",
   "language": "python",
   "name": "python3"
  },
  "language_info": {
   "codemirror_mode": {
    "name": "ipython",
    "version": 3
   },
   "file_extension": ".py",
   "mimetype": "text/x-python",
   "name": "python",
   "nbconvert_exporter": "python",
   "pygments_lexer": "ipython3",
   "version": "3.6.2"
  }
 },
 "nbformat": 4,
 "nbformat_minor": 2
}
